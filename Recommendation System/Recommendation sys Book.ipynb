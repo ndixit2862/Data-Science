{
 "cells": [
  {
   "cell_type": "code",
   "execution_count": 1,
   "metadata": {},
   "outputs": [
    {
     "name": "stdout",
     "output_type": "stream",
     "text": [
      "(10000, 4)\n"
     ]
    },
    {
     "data": {
      "text/plain": [
       "Index(['Unnamed: 0', 'User.ID', 'Book.Title', 'Book.Rating'], dtype='object')"
      ]
     },
     "execution_count": 1,
     "metadata": {},
     "output_type": "execute_result"
    }
   ],
   "source": [
    "import pandas as pd\n",
    "\n",
    "books = pd.read_csv(\"book.csv\",encoding = \"ISO-8859-1\")\n",
    "print(books.shape) \n",
    "books.columns"
   ]
  },
  {
   "cell_type": "code",
   "execution_count": 2,
   "metadata": {},
   "outputs": [
    {
     "data": {
      "text/html": [
       "<div>\n",
       "<style scoped>\n",
       "    .dataframe tbody tr th:only-of-type {\n",
       "        vertical-align: middle;\n",
       "    }\n",
       "\n",
       "    .dataframe tbody tr th {\n",
       "        vertical-align: top;\n",
       "    }\n",
       "\n",
       "    .dataframe thead th {\n",
       "        text-align: right;\n",
       "    }\n",
       "</style>\n",
       "<table border=\"1\" class=\"dataframe\">\n",
       "  <thead>\n",
       "    <tr style=\"text-align: right;\">\n",
       "      <th></th>\n",
       "      <th>Unnamed: 0</th>\n",
       "      <th>User.ID</th>\n",
       "      <th>Book.Title</th>\n",
       "      <th>Book.Rating</th>\n",
       "    </tr>\n",
       "  </thead>\n",
       "  <tbody>\n",
       "    <tr>\n",
       "      <th>0</th>\n",
       "      <td>1</td>\n",
       "      <td>276726</td>\n",
       "      <td>Classical Mythology</td>\n",
       "      <td>5</td>\n",
       "    </tr>\n",
       "    <tr>\n",
       "      <th>1</th>\n",
       "      <td>2</td>\n",
       "      <td>276729</td>\n",
       "      <td>Clara Callan</td>\n",
       "      <td>3</td>\n",
       "    </tr>\n",
       "    <tr>\n",
       "      <th>2</th>\n",
       "      <td>3</td>\n",
       "      <td>276729</td>\n",
       "      <td>Decision in Normandy</td>\n",
       "      <td>6</td>\n",
       "    </tr>\n",
       "    <tr>\n",
       "      <th>3</th>\n",
       "      <td>4</td>\n",
       "      <td>276736</td>\n",
       "      <td>Flu: The Story of the Great Influenza Pandemic...</td>\n",
       "      <td>8</td>\n",
       "    </tr>\n",
       "    <tr>\n",
       "      <th>4</th>\n",
       "      <td>5</td>\n",
       "      <td>276737</td>\n",
       "      <td>The Mummies of Urumchi</td>\n",
       "      <td>6</td>\n",
       "    </tr>\n",
       "  </tbody>\n",
       "</table>\n",
       "</div>"
      ],
      "text/plain": [
       "   Unnamed: 0  User.ID                                         Book.Title  \\\n",
       "0           1   276726                                Classical Mythology   \n",
       "1           2   276729                                       Clara Callan   \n",
       "2           3   276729                               Decision in Normandy   \n",
       "3           4   276736  Flu: The Story of the Great Influenza Pandemic...   \n",
       "4           5   276737                             The Mummies of Urumchi   \n",
       "\n",
       "   Book.Rating  \n",
       "0            5  \n",
       "1            3  \n",
       "2            6  \n",
       "3            8  \n",
       "4            6  "
      ]
     },
     "execution_count": 2,
     "metadata": {},
     "output_type": "execute_result"
    }
   ],
   "source": [
    "books.head()"
   ]
  },
  {
   "cell_type": "code",
   "execution_count": 3,
   "metadata": {},
   "outputs": [],
   "source": [
    "books1 = books.iloc[:,1:]"
   ]
  },
  {
   "cell_type": "code",
   "execution_count": 4,
   "metadata": {},
   "outputs": [],
   "source": [
    "books1.columns = [\"UserID\", \"Title\", \"BookRating\"]"
   ]
  },
  {
   "cell_type": "code",
   "execution_count": 5,
   "metadata": {},
   "outputs": [
    {
     "data": {
      "text/html": [
       "<div>\n",
       "<style scoped>\n",
       "    .dataframe tbody tr th:only-of-type {\n",
       "        vertical-align: middle;\n",
       "    }\n",
       "\n",
       "    .dataframe tbody tr th {\n",
       "        vertical-align: top;\n",
       "    }\n",
       "\n",
       "    .dataframe thead th {\n",
       "        text-align: right;\n",
       "    }\n",
       "</style>\n",
       "<table border=\"1\" class=\"dataframe\">\n",
       "  <thead>\n",
       "    <tr style=\"text-align: right;\">\n",
       "      <th></th>\n",
       "      <th>UserID</th>\n",
       "      <th>Title</th>\n",
       "      <th>BookRating</th>\n",
       "    </tr>\n",
       "  </thead>\n",
       "  <tbody>\n",
       "    <tr>\n",
       "      <th>0</th>\n",
       "      <td>276726</td>\n",
       "      <td>Classical Mythology</td>\n",
       "      <td>5</td>\n",
       "    </tr>\n",
       "    <tr>\n",
       "      <th>1</th>\n",
       "      <td>276729</td>\n",
       "      <td>Clara Callan</td>\n",
       "      <td>3</td>\n",
       "    </tr>\n",
       "    <tr>\n",
       "      <th>2</th>\n",
       "      <td>276729</td>\n",
       "      <td>Decision in Normandy</td>\n",
       "      <td>6</td>\n",
       "    </tr>\n",
       "    <tr>\n",
       "      <th>3</th>\n",
       "      <td>276736</td>\n",
       "      <td>Flu: The Story of the Great Influenza Pandemic...</td>\n",
       "      <td>8</td>\n",
       "    </tr>\n",
       "    <tr>\n",
       "      <th>4</th>\n",
       "      <td>276737</td>\n",
       "      <td>The Mummies of Urumchi</td>\n",
       "      <td>6</td>\n",
       "    </tr>\n",
       "  </tbody>\n",
       "</table>\n",
       "</div>"
      ],
      "text/plain": [
       "   UserID                                              Title  BookRating\n",
       "0  276726                                Classical Mythology           5\n",
       "1  276729                                       Clara Callan           3\n",
       "2  276729                               Decision in Normandy           6\n",
       "3  276736  Flu: The Story of the Great Influenza Pandemic...           8\n",
       "4  276737                             The Mummies of Urumchi           6"
      ]
     },
     "execution_count": 5,
     "metadata": {},
     "output_type": "execute_result"
    }
   ],
   "source": [
    "books1.head()"
   ]
  },
  {
   "cell_type": "code",
   "execution_count": 6,
   "metadata": {},
   "outputs": [],
   "source": [
    "from sklearn.feature_extraction.text import TfidfVectorizer \n",
    "\n",
    "# Creating a Tfidf Vectorizer to remove all stop words\n",
    "tfidf = TfidfVectorizer(stop_words=\"english\")    #taking stop words from tfid vectorizer "
   ]
  },
  {
   "cell_type": "code",
   "execution_count": 7,
   "metadata": {},
   "outputs": [
    {
     "data": {
      "text/plain": [
       "0"
      ]
     },
     "execution_count": 7,
     "metadata": {},
     "output_type": "execute_result"
    }
   ],
   "source": [
    "# replacing the NaN values in overview column with\n",
    "# empty string\n",
    "books1[\"Title\"].isnull().sum() \n",
    "books1[\"BookRating\"].isnull().sum() \n",
    "# books1[\"Title\"] = books1[\"Title\"].fillna(\" \")   # No null values so ignore"
   ]
  },
  {
   "cell_type": "code",
   "execution_count": 8,
   "metadata": {},
   "outputs": [
    {
     "name": "stdout",
     "output_type": "stream",
     "text": [
      "Shape (10000, 11435)\n"
     ]
    }
   ],
   "source": [
    "# Preparing the Tfidf matrix by fitting and transforming\n",
    "\n",
    "tfidf_matrix = tfidf.fit_transform(books1.Title)   #Transform a count matrix to a normalized tf or tf-idf representation\n",
    "print(\"Shape\",tfidf_matrix.shape) "
   ]
  },
  {
   "cell_type": "code",
   "execution_count": 9,
   "metadata": {},
   "outputs": [
    {
     "name": "stdout",
     "output_type": "stream",
     "text": [
      "[[1. 0. 0. ... 0. 0. 0.]\n",
      " [0. 1. 0. ... 0. 0. 0.]\n",
      " [0. 0. 1. ... 0. 0. 0.]\n",
      " ...\n",
      " [0. 0. 0. ... 1. 0. 0.]\n",
      " [0. 0. 0. ... 0. 1. 0.]\n",
      " [0. 0. 0. ... 0. 0. 1.]]\n"
     ]
    }
   ],
   "source": [
    "from sklearn.metrics.pairwise import linear_kernel\n",
    "\n",
    "# Computing the cosine similarity on Tfidf matrix\n",
    "cosine_sim_matrix = linear_kernel(tfidf_matrix,tfidf_matrix) # cos_sim_matrix is obtained by matrix * matrix\n",
    "print(cosine_sim_matrix)"
   ]
  },
  {
   "cell_type": "code",
   "execution_count": 10,
   "metadata": {},
   "outputs": [],
   "source": [
    "# books1['Title']= books1['Title'].str.lower()\n",
    "# books1.Title.value_counts()"
   ]
  },
  {
   "cell_type": "code",
   "execution_count": 11,
   "metadata": {},
   "outputs": [],
   "source": [
    "# books1.drop_duplicates(subset =\"Title\",keep='first',inplace = True)\n",
    "# # books1.reset_index(drop=True,inplace = True)"
   ]
  },
  {
   "cell_type": "code",
   "execution_count": 12,
   "metadata": {},
   "outputs": [
    {
     "name": "stdout",
     "output_type": "stream",
     "text": [
      "Title\n",
      "classical mythology                                                                                      0\n",
      "clara callan                                                                                             1\n",
      "decision in normandy                                                                                     2\n",
      "flu: the story of the great influenza pandemic of 1918 and the search for the virus that caused it       3\n",
      "the mummies of urumchi                                                                                   4\n",
      "                                                                                                      ... \n",
      "american fried: adventures of a happy eater.                                                          9995\n",
      "cannibal in manhattan                                                                                 9996\n",
      "how to flirt: a practical guide                                                                       9997\n",
      "twilight                                                                                              9998\n",
      "kids say the darndest things                                                                          9999\n",
      "Length: 10000, dtype: int64\n"
     ]
    }
   ],
   "source": [
    "books1['Title']= books1['Title'].str.lower()\n",
    "books1_index = pd.Series(books1.index, index = books1['Title']).drop_duplicates()\n",
    "print(books1_index)"
   ]
  },
  {
   "cell_type": "code",
   "execution_count": 13,
   "metadata": {
    "scrolled": true
   },
   "outputs": [],
   "source": [
    "# books1_index = pd.Series(books1.index, index = books1['Title'])\n",
    "# books1_index.sort_values(ascending=True, inplace=True)\n",
    "# print(books1_index)"
   ]
  },
  {
   "cell_type": "code",
   "execution_count": 14,
   "metadata": {},
   "outputs": [],
   "source": [
    "def get_book_recommendations(BookName,topN):\n",
    "   \n",
    "    # Getting the Books index using its title \n",
    "    books1_id = books1_index[BookName] \n",
    "    # print(book_id)\n",
    "    \n",
    "     # Getting the pair wise similarity score for all the books with that of eneterd book\n",
    "    cosine_scores = list(enumerate(cosine_sim_matrix[books1_id])) \n",
    "    # print(cosine_scores)\n",
    "    \n",
    "    # Sorting the cosine_similarity scores based on scores \n",
    "    cosine_scores = sorted(cosine_scores, key=lambda x:x[1], reverse = True)\n",
    "    # print(cosine_scores)\n",
    "    \n",
    "    # Get the scores of topN most similar books \n",
    "    cosine_score_TopN = cosine_scores[0:topN]\n",
    "    print(cosine_score_TopN)\n",
    "\n",
    "    # Above will only give index number not the book name\n",
    "    # Getting the book index \n",
    "    books1_idx = [i[0] for i in cosine_score_TopN]\n",
    "    books1_scores = [i[1] for i in cosine_score_TopN]\n",
    "    \n",
    "    # Similar books and scores\n",
    "    books1_similar_show = pd.DataFrame(columns=[\"Title\",\"Score\"])\n",
    "    \n",
    "    # using book index we fetch book name from books\n",
    "    books1_similar_show[\"Title\"] = books1.loc[books1_idx,\"Title\"] \n",
    "    books1_similar_show[\"Score\"]= books1_scores\n",
    "    books1_similar_show.reset_index(inplace=True) \n",
    "    books1_similar_show.drop([\"index\"],axis=1,inplace=True)\n",
    "    return books1_similar_show\n",
    "    "
   ]
  },
  {
   "cell_type": "code",
   "execution_count": 15,
   "metadata": {
    "scrolled": true
   },
   "outputs": [
    {
     "name": "stdout",
     "output_type": "stream",
     "text": [
      "[(9999, 1.0), (8717, 0.31995947162024035), (8865, 0.31995947162024035), (2321, 0.2931774153982582), (136, 0.27242079808630437), (5474, 0.2676153960100704), (9736, 0.266961078456532), (9428, 0.2610743104335387), (1679, 0.2601987837049816), (5409, 0.2601854861261112)]\n"
     ]
    },
    {
     "data": {
      "text/html": [
       "<div>\n",
       "<style scoped>\n",
       "    .dataframe tbody tr th:only-of-type {\n",
       "        vertical-align: middle;\n",
       "    }\n",
       "\n",
       "    .dataframe tbody tr th {\n",
       "        vertical-align: top;\n",
       "    }\n",
       "\n",
       "    .dataframe thead th {\n",
       "        text-align: right;\n",
       "    }\n",
       "</style>\n",
       "<table border=\"1\" class=\"dataframe\">\n",
       "  <thead>\n",
       "    <tr style=\"text-align: right;\">\n",
       "      <th></th>\n",
       "      <th>Title</th>\n",
       "      <th>Score</th>\n",
       "    </tr>\n",
       "  </thead>\n",
       "  <tbody>\n",
       "    <tr>\n",
       "      <th>0</th>\n",
       "      <td>kids say the darndest things</td>\n",
       "      <td>1.000000</td>\n",
       "    </tr>\n",
       "    <tr>\n",
       "      <th>1</th>\n",
       "      <td>before i say goodbye</td>\n",
       "      <td>0.319959</td>\n",
       "    </tr>\n",
       "    <tr>\n",
       "      <th>2</th>\n",
       "      <td>say no to joe?</td>\n",
       "      <td>0.319959</td>\n",
       "    </tr>\n",
       "    <tr>\n",
       "      <th>3</th>\n",
       "      <td>how to say it style guide</td>\n",
       "      <td>0.293177</td>\n",
       "    </tr>\n",
       "    <tr>\n",
       "      <th>4</th>\n",
       "      <td>before i say good-bye</td>\n",
       "      <td>0.272421</td>\n",
       "    </tr>\n",
       "    <tr>\n",
       "      <th>5</th>\n",
       "      <td>everything cat: what kids really want to know ...</td>\n",
       "      <td>0.267615</td>\n",
       "    </tr>\n",
       "    <tr>\n",
       "      <th>6</th>\n",
       "      <td>things not seen</td>\n",
       "      <td>0.266961</td>\n",
       "    </tr>\n",
       "    <tr>\n",
       "      <th>7</th>\n",
       "      <td>dinkum oil; meanings and origins of things aus...</td>\n",
       "      <td>0.261074</td>\n",
       "    </tr>\n",
       "    <tr>\n",
       "      <th>8</th>\n",
       "      <td>before i say good-bye : a novel</td>\n",
       "      <td>0.260199</td>\n",
       "    </tr>\n",
       "    <tr>\n",
       "      <th>9</th>\n",
       "      <td>ufo kids</td>\n",
       "      <td>0.260185</td>\n",
       "    </tr>\n",
       "  </tbody>\n",
       "</table>\n",
       "</div>"
      ],
      "text/plain": [
       "                                               Title     Score\n",
       "0                       kids say the darndest things  1.000000\n",
       "1                               before i say goodbye  0.319959\n",
       "2                                     say no to joe?  0.319959\n",
       "3                          how to say it style guide  0.293177\n",
       "4                              before i say good-bye  0.272421\n",
       "5  everything cat: what kids really want to know ...  0.267615\n",
       "6                                    things not seen  0.266961\n",
       "7  dinkum oil; meanings and origins of things aus...  0.261074\n",
       "8                    before i say good-bye : a novel  0.260199\n",
       "9                                           ufo kids  0.260185"
      ]
     },
     "execution_count": 15,
     "metadata": {},
     "output_type": "execute_result"
    }
   ],
   "source": [
    "# Enter the book name or index number and number of books to be recommended \n",
    "Top_N_Books = get_book_recommendations(\"kids say the darndest things\",10)\n",
    "Top_N_Books"
   ]
  },
  {
   "cell_type": "code",
   "execution_count": null,
   "metadata": {},
   "outputs": [],
   "source": []
  }
 ],
 "metadata": {
  "kernelspec": {
   "display_name": "Python 3",
   "language": "python",
   "name": "python3"
  },
  "language_info": {
   "codemirror_mode": {
    "name": "ipython",
    "version": 3
   },
   "file_extension": ".py",
   "mimetype": "text/x-python",
   "name": "python",
   "nbconvert_exporter": "python",
   "pygments_lexer": "ipython3",
   "version": "3.8.5"
  }
 },
 "nbformat": 4,
 "nbformat_minor": 2
}
